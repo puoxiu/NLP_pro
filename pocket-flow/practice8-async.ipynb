{
 "cells": [
  {
   "cell_type": "markdown",
   "id": "d706e632",
   "metadata": {},
   "source": [
    "# 异步并行的flow\n",
    "> 演示：将md同时翻译成多国语言"
   ]
  },
  {
   "cell_type": "code",
   "execution_count": 1,
   "id": "82b2032e",
   "metadata": {},
   "outputs": [],
   "source": [
    "from openai import OpenAI\n",
    "import os\n",
    "from dotenv import load_dotenv\n",
    "import time\n",
    "import asyncio\n"
   ]
  },
  {
   "cell_type": "code",
   "execution_count": 2,
   "id": "cb675e15",
   "metadata": {},
   "outputs": [
    {
     "data": {
      "text/plain": [
       "True"
      ]
     },
     "execution_count": 2,
     "metadata": {},
     "output_type": "execute_result"
    }
   ],
   "source": [
    "load_dotenv()"
   ]
  },
  {
   "cell_type": "code",
   "execution_count": 3,
   "id": "3fd6ab09",
   "metadata": {},
   "outputs": [],
   "source": [
    "async def call_llm(prompt):\n",
    "    client = OpenAI(\n",
    "        base_url= os.getenv(\"BASE_URL\"),\n",
    "        api_key=os.getenv(\"DASHSCOPE_API_KEY\")\n",
    "    )\n",
    "    res = await client.chat.completions.create(\n",
    "        model = os.getenv(\"MODEL_NAME\"),\n",
    "        messages = [{\n",
    "            \"role\": \"user\",\n",
    "            \"content\": prompt\n",
    "        }]\n",
    "    )\n",
    "    return res.choices[0].message.content"
   ]
  },
  {
   "cell_type": "code",
   "execution_count": 4,
   "id": "133571b5",
   "metadata": {},
   "outputs": [],
   "source": [
    "from pocketflow import AsyncFlow, AsyncParallelBatchNode"
   ]
  },
  {
   "cell_type": "code",
   "execution_count": 5,
   "id": "8052217c",
   "metadata": {},
   "outputs": [],
   "source": [
    "class TranslateTextNodeParallel(AsyncParallelBatchNode):\n",
    "    \"\"\"Translates README into multiple languages in parallel and saves files.\"\"\"\n",
    "    async def prep_async(self, shared):\n",
    "        \"\"\"Reads text and target languages from shared store.\"\"\"\n",
    "        text = shared.get(\"text\", \"(No text provided)\")\n",
    "        languages = shared.get(\"languages\", [])\n",
    "        return [(text, lang) for lang in languages]\n",
    "\n",
    "    async def exec_async(self, data_tuple):\n",
    "        \"\"\"Calls the async LLM utility for each target language.\"\"\"\n",
    "        text, language = data_tuple\n",
    "        \n",
    "        prompt = f\"\"\"\n",
    "        Please translate the following markdown file into {language}. \n",
    "        But keep the original markdown format, links and code blocks.\n",
    "        Directly return the translated text, without any other text or comments.\n",
    "\n",
    "        Original: \n",
    "        {text}\n",
    "\n",
    "        Translated:\"\"\"\n",
    "                \n",
    "        result = await call_llm(prompt)\n",
    "        print(f\"Translated {language} text\")\n",
    "        return {\"language\": language, \"translation\": result}\n",
    "\n",
    "    async def post_async(self, shared, prep_res, exec_res_list):\n",
    "        \"\"\"Stores the dictionary of {language: translation} pairs and writes to files.\"\"\"\n",
    "        output_dir = shared.get(\"output_dir\", \"data\")\n",
    "        os.makedirs(output_dir, exist_ok=True)\n",
    "        \n",
    "        for result in exec_res_list:\n",
    "            if isinstance(result, dict):\n",
    "                language = result.get(\"language\", \"unknown\")\n",
    "                translation = result.get(\"translation\", \"\")\n",
    "                \n",
    "                filename = os.path.join(output_dir, f\"README_{language.upper()}.md\")\n",
    "                try:\n",
    "                    import aiofiles\n",
    "                    async with aiofiles.open(filename, \"w\", encoding=\"utf-8\") as f:\n",
    "                        await f.write(translation)\n",
    "                    print(f\"Saved translation to {filename}\")\n",
    "                except ImportError:\n",
    "                    with open(filename, \"w\", encoding=\"utf-8\") as f:\n",
    "                        f.write(translation)\n",
    "                    print(f\"Saved translation to {filename} (sync fallback)\")\n",
    "                except Exception as e:\n",
    "                    print(f\"Error writing file {filename}: {e}\")\n",
    "            else:\n",
    "                print(f\"Warning: Skipping invalid result item: {result}\")\n",
    "        return \"default\""
   ]
  },
  {
   "cell_type": "code",
   "execution_count": 6,
   "id": "c17ea82c",
   "metadata": {},
   "outputs": [],
   "source": [
    "def create_parallel_translation_flow():\n",
    "    \"\"\"Creates and returns the parallel translation flow.\"\"\"\n",
    "    translate_node = TranslateTextNodeParallel(max_retries=3)\n",
    "    return AsyncFlow(start=translate_node)"
   ]
  },
  {
   "cell_type": "code",
   "execution_count": 7,
   "id": "5fed63b7",
   "metadata": {},
   "outputs": [
    {
     "name": "stdout",
     "output_type": "stream",
     "text": [
      "Starting parallel translation into 7 languages...\n"
     ]
    },
    {
     "ename": "CancelledError",
     "evalue": "",
     "output_type": "error",
     "traceback": [
      "\u001b[31m---------------------------------------------------------------------------\u001b[39m",
      "\u001b[31mCancelledError\u001b[39m                            Traceback (most recent call last)",
      "\u001b[36mCell\u001b[39m\u001b[36m \u001b[39m\u001b[32mIn[7]\u001b[39m\u001b[32m, line 36\u001b[39m\n\u001b[32m     31\u001b[39m     \u001b[38;5;28mprint\u001b[39m(\u001b[33m\"\u001b[39m\u001b[33m============================\u001b[39m\u001b[33m\"\u001b[39m)\n\u001b[32m     33\u001b[39m \u001b[38;5;28;01mif\u001b[39;00m \u001b[34m__name__\u001b[39m == \u001b[33m\"\u001b[39m\u001b[33m__main__\u001b[39m\u001b[33m\"\u001b[39m:\n\u001b[32m     34\u001b[39m     \u001b[38;5;66;03m# asyncio.run(main()) \u001b[39;00m\n\u001b[32m     35\u001b[39m     \u001b[38;5;66;03m# 在jupyter中直接：\u001b[39;00m\n\u001b[32m---> \u001b[39m\u001b[32m36\u001b[39m     \u001b[38;5;28;01mawait\u001b[39;00m main()\n",
      "\u001b[36mCell\u001b[39m\u001b[36m \u001b[39m\u001b[32mIn[7]\u001b[39m\u001b[32m, line 24\u001b[39m, in \u001b[36mmain\u001b[39m\u001b[34m()\u001b[39m\n\u001b[32m     21\u001b[39m \u001b[38;5;28mprint\u001b[39m(\u001b[33mf\u001b[39m\u001b[33m\"\u001b[39m\u001b[33mStarting parallel translation into \u001b[39m\u001b[38;5;132;01m{\u001b[39;00m\u001b[38;5;28mlen\u001b[39m(shared[\u001b[33m'\u001b[39m\u001b[33mlanguages\u001b[39m\u001b[33m'\u001b[39m])\u001b[38;5;132;01m}\u001b[39;00m\u001b[33m languages...\u001b[39m\u001b[33m\"\u001b[39m)\n\u001b[32m     22\u001b[39m start_time = time.perf_counter()\n\u001b[32m---> \u001b[39m\u001b[32m24\u001b[39m \u001b[38;5;28;01mawait\u001b[39;00m translation_flow.run_async(shared)\n\u001b[32m     26\u001b[39m end_time = time.perf_counter()\n\u001b[32m     27\u001b[39m duration = end_time - start_time\n",
      "\u001b[36mFile \u001b[39m\u001b[32m~/miniconda3/envs/pocket-flow/lib/python3.11/site-packages/pocketflow/__init__.py:72\u001b[39m, in \u001b[36mAsyncNode.run_async\u001b[39m\u001b[34m(self, shared)\u001b[39m\n\u001b[32m     70\u001b[39m \u001b[38;5;28;01masync\u001b[39;00m \u001b[38;5;28;01mdef\u001b[39;00m\u001b[38;5;250m \u001b[39m\u001b[34mrun_async\u001b[39m(\u001b[38;5;28mself\u001b[39m,shared): \n\u001b[32m     71\u001b[39m     \u001b[38;5;28;01mif\u001b[39;00m \u001b[38;5;28mself\u001b[39m.successors: warnings.warn(\u001b[33m\"\u001b[39m\u001b[33mNode won\u001b[39m\u001b[33m'\u001b[39m\u001b[33mt run successors. Use AsyncFlow.\u001b[39m\u001b[33m\"\u001b[39m)  \n\u001b[32m---> \u001b[39m\u001b[32m72\u001b[39m     \u001b[38;5;28;01mreturn\u001b[39;00m \u001b[38;5;28;01mawait\u001b[39;00m \u001b[38;5;28mself\u001b[39m._run_async(shared)\n",
      "\u001b[36mFile \u001b[39m\u001b[32m~/miniconda3/envs/pocket-flow/lib/python3.11/site-packages/pocketflow/__init__.py:87\u001b[39m, in \u001b[36mAsyncFlow._run_async\u001b[39m\u001b[34m(self, shared)\u001b[39m\n\u001b[32m     85\u001b[39m     \u001b[38;5;28;01mwhile\u001b[39;00m curr: curr.set_params(p); last_action=\u001b[38;5;28;01mawait\u001b[39;00m curr._run_async(shared) \u001b[38;5;28;01mif\u001b[39;00m \u001b[38;5;28misinstance\u001b[39m(curr,AsyncNode) \u001b[38;5;28;01melse\u001b[39;00m curr._run(shared); curr=copy.copy(\u001b[38;5;28mself\u001b[39m.get_next_node(curr,last_action))\n\u001b[32m     86\u001b[39m     \u001b[38;5;28;01mreturn\u001b[39;00m last_action\n\u001b[32m---> \u001b[39m\u001b[32m87\u001b[39m \u001b[38;5;28;01masync\u001b[39;00m \u001b[38;5;28;01mdef\u001b[39;00m\u001b[38;5;250m \u001b[39m\u001b[34m_run_async\u001b[39m(\u001b[38;5;28mself\u001b[39m,shared): p=\u001b[38;5;28;01mawait\u001b[39;00m \u001b[38;5;28mself\u001b[39m.prep_async(shared); o=\u001b[38;5;28;01mawait\u001b[39;00m \u001b[38;5;28mself\u001b[39m._orch_async(shared); \u001b[38;5;28;01mreturn\u001b[39;00m \u001b[38;5;28;01mawait\u001b[39;00m \u001b[38;5;28mself\u001b[39m.post_async(shared,p,o)\n\u001b[32m     88\u001b[39m \u001b[38;5;28;01masync\u001b[39;00m \u001b[38;5;28;01mdef\u001b[39;00m\u001b[38;5;250m \u001b[39m\u001b[34mpost_async\u001b[39m(\u001b[38;5;28mself\u001b[39m,shared,prep_res,exec_res): \u001b[38;5;28;01mreturn\u001b[39;00m exec_res\n",
      "\u001b[36mFile \u001b[39m\u001b[32m~/miniconda3/envs/pocket-flow/lib/python3.11/site-packages/pocketflow/__init__.py:85\u001b[39m, in \u001b[36mAsyncFlow._orch_async\u001b[39m\u001b[34m(self, shared, params)\u001b[39m\n\u001b[32m     83\u001b[39m \u001b[38;5;28;01masync\u001b[39;00m \u001b[38;5;28;01mdef\u001b[39;00m\u001b[38;5;250m \u001b[39m\u001b[34m_orch_async\u001b[39m(\u001b[38;5;28mself\u001b[39m,shared,params=\u001b[38;5;28;01mNone\u001b[39;00m):\n\u001b[32m     84\u001b[39m     curr,p,last_action =copy.copy(\u001b[38;5;28mself\u001b[39m.start_node),(params \u001b[38;5;129;01mor\u001b[39;00m {**\u001b[38;5;28mself\u001b[39m.params}),\u001b[38;5;28;01mNone\u001b[39;00m\n\u001b[32m---> \u001b[39m\u001b[32m85\u001b[39m     \u001b[38;5;28;01mwhile\u001b[39;00m curr: curr.set_params(p); last_action=\u001b[38;5;28;01mawait\u001b[39;00m curr._run_async(shared) \u001b[38;5;28;01mif\u001b[39;00m \u001b[38;5;28misinstance\u001b[39m(curr,AsyncNode) \u001b[38;5;28;01melse\u001b[39;00m curr._run(shared); curr=copy.copy(\u001b[38;5;28mself\u001b[39m.get_next_node(curr,last_action))\n\u001b[32m     86\u001b[39m     \u001b[38;5;28;01mreturn\u001b[39;00m last_action\n",
      "\u001b[36mFile \u001b[39m\u001b[32m~/miniconda3/envs/pocket-flow/lib/python3.11/site-packages/pocketflow/__init__.py:73\u001b[39m, in \u001b[36mAsyncNode._run_async\u001b[39m\u001b[34m(self, shared)\u001b[39m\n\u001b[32m---> \u001b[39m\u001b[32m73\u001b[39m \u001b[38;5;28;01masync\u001b[39;00m \u001b[38;5;28;01mdef\u001b[39;00m\u001b[38;5;250m \u001b[39m\u001b[34m_run_async\u001b[39m(\u001b[38;5;28mself\u001b[39m,shared): p=\u001b[38;5;28;01mawait\u001b[39;00m \u001b[38;5;28mself\u001b[39m.prep_async(shared); e=\u001b[38;5;28;01mawait\u001b[39;00m \u001b[38;5;28mself\u001b[39m._exec(p); \u001b[38;5;28;01mreturn\u001b[39;00m \u001b[38;5;28;01mawait\u001b[39;00m \u001b[38;5;28mself\u001b[39m.post_async(shared,p,e)\n",
      "\u001b[36mFile \u001b[39m\u001b[32m~/miniconda3/envs/pocket-flow/lib/python3.11/site-packages/pocketflow/__init__.py:80\u001b[39m, in \u001b[36mAsyncParallelBatchNode._exec\u001b[39m\u001b[34m(self, items)\u001b[39m\n\u001b[32m---> \u001b[39m\u001b[32m80\u001b[39m \u001b[38;5;28;01masync\u001b[39;00m \u001b[38;5;28;01mdef\u001b[39;00m\u001b[38;5;250m \u001b[39m\u001b[34m_exec\u001b[39m(\u001b[38;5;28mself\u001b[39m,items): \u001b[38;5;28;01mreturn\u001b[39;00m \u001b[38;5;28;01mawait\u001b[39;00m asyncio.gather(*(\u001b[38;5;28msuper\u001b[39m(AsyncParallelBatchNode,\u001b[38;5;28mself\u001b[39m)._exec(i) \u001b[38;5;28;01mfor\u001b[39;00m i \u001b[38;5;129;01min\u001b[39;00m items))\n",
      "\u001b[31mCancelledError\u001b[39m: "
     ]
    }
   ],
   "source": [
    "async def main():\n",
    "    source_readme_path = \"./README.md\"\n",
    "    try:\n",
    "        with open(source_readme_path, \"r\", encoding='utf-8') as f:\n",
    "            text = f.read()\n",
    "    except FileNotFoundError:\n",
    "        print(f\"Error: Could not find the source README file at {source_readme_path}\")\n",
    "        exit(1)\n",
    "    except Exception as e:\n",
    "        print(f\"Error reading file {source_readme_path}: {e}\")\n",
    "        exit(1)\n",
    "\n",
    "    shared = {\n",
    "        \"text\": text,\n",
    "        \"languages\": [\"Chinese\", \"Spanish\", \"Japanese\", \"German\", \"Russian\", \"French\", \"Korean\"],\n",
    "        \"output_dir\": \"data\"\n",
    "    }\n",
    "\n",
    "    translation_flow = create_parallel_translation_flow()\n",
    "\n",
    "    print(f\"Starting parallel translation into {len(shared['languages'])} languages...\")\n",
    "    start_time = time.perf_counter()\n",
    "\n",
    "    await translation_flow.run_async(shared)\n",
    "\n",
    "    end_time = time.perf_counter()\n",
    "    duration = end_time - start_time\n",
    "    print(f\"\\nTotal parallel translation time: {duration:.4f} seconds\")\n",
    "    print(\"\\n=== Translation Complete ===\")\n",
    "    print(f\"Translations saved to: {shared['output_dir']}\")\n",
    "    print(\"============================\")\n",
    "\n",
    "if __name__ == \"__main__\":\n",
    "    # asyncio.run(main()) \n",
    "    # 在jupyter中直接：\n",
    "    await main()"
   ]
  }
 ],
 "metadata": {
  "kernelspec": {
   "display_name": "pocket-flow",
   "language": "python",
   "name": "python3"
  },
  "language_info": {
   "codemirror_mode": {
    "name": "ipython",
    "version": 3
   },
   "file_extension": ".py",
   "mimetype": "text/x-python",
   "name": "python",
   "nbconvert_exporter": "python",
   "pygments_lexer": "ipython3",
   "version": "3.11.13"
  }
 },
 "nbformat": 4,
 "nbformat_minor": 5
}
