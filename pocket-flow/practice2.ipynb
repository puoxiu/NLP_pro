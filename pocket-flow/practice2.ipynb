{
 "cells": [
  {
   "cell_type": "markdown",
   "id": "0f59ad53",
   "metadata": {},
   "source": [
    "# 简历分析工作流--聚焦结构化输出\n",
    "> 由于涉及隐私数据，qwen3模型不能返回，可换其它模型"
   ]
  },
  {
   "cell_type": "code",
   "execution_count": 2,
   "id": "a3f1eb01",
   "metadata": {},
   "outputs": [
    {
     "data": {
      "text/plain": [
       "True"
      ]
     },
     "execution_count": 2,
     "metadata": {},
     "output_type": "execute_result"
    }
   ],
   "source": [
    "from openai import OpenAI\n",
    "import os\n",
    "from dotenv import load_dotenv\n",
    "from pocketflow import Node,Flow\n",
    "\n",
    "load_dotenv()"
   ]
  },
  {
   "cell_type": "code",
   "execution_count": 5,
   "id": "9871f05a",
   "metadata": {},
   "outputs": [],
   "source": [
    "import yaml"
   ]
  },
  {
   "cell_type": "code",
   "execution_count": 6,
   "id": "3f31facf",
   "metadata": {},
   "outputs": [],
   "source": [
    "def call_llm(prompt):\n",
    "    client = OpenAI(\n",
    "        base_url= os.getenv(\"BASE_URL\"),\n",
    "        api_key=os.getenv(\"DASHSCOPE_API_KEY\")\n",
    "    )\n",
    "    res = client.chat.completions.create(\n",
    "        model = os.getenv(\"MODEL_NAME\"),\n",
    "        messages = [{\n",
    "            \"role\": \"user\",\n",
    "            \"content\": prompt\n",
    "        }]\n",
    "    )\n",
    "    return res.choices[0].message.content"
   ]
  },
  {
   "cell_type": "code",
   "execution_count": 7,
   "id": "8a4801b4",
   "metadata": {},
   "outputs": [],
   "source": [
    "\n",
    "class ResumeParseNode(Node):\n",
    "    # 获取简历数据\n",
    "    def prep(self, shared):\n",
    "        return shared['resume_text']\n",
    "    # 解析简历并按需求的格式输出\n",
    "    def exec(self, resume_text):\n",
    "        prompt = f\"\"\"\n",
    "        请从这份简历中提取以下信息，并将其格式化为 YAML：\n",
    "        {resume_text}\n",
    "        现在请按照以下格式输出：\n",
    "        ```yaml\n",
    "        name: 名字  \n",
    "        email: xxx@xxx.com  \n",
    "        experience:  \n",
    "            - title: 职位名称1  \n",
    "              company: 公司1\n",
    "            - title: 职位名称2  \n",
    "              company: 公司2\n",
    "        skills:  \n",
    "            - 技能1  \n",
    "            - 技能2   \n",
    "            - 技能3\n",
    "        ```\"\"\"\n",
    "        res = call_llm(prompt)\n",
    "        yaml_str = res.split(\"```yaml\")[1].split(\"```\")[0].strip()\n",
    "        structured_data = yaml.safe_load(yaml_str)\n",
    "        return structured_data\n",
    "    # 将结果处理后保存\n",
    "    def post(self, shared, prep_res, exec_res):\n",
    "        shared['structured_data'] = exec_res\n",
    "\n",
    "        print(\"\\n=== 简历结构化摘要数据 ===\\n\")\n",
    "        print(yaml.dump(exec_res,allow_unicode=True,sort_keys=False))\n",
    "        print(\"========================\")\n"
   ]
  },
  {
   "cell_type": "code",
   "execution_count": 8,
   "id": "00f55f52",
   "metadata": {},
   "outputs": [],
   "source": [
    "# 新建简历处理节点\n",
    "resume_node = ResumeParseNode()\n",
    "# 新建简历流程\n",
    "resume_flow = Flow(start=resume_node)"
   ]
  },
  {
   "cell_type": "code",
   "execution_count": 11,
   "id": "8787d646",
   "metadata": {},
   "outputs": [
    {
     "name": "stdout",
     "output_type": "stream",
     "text": [
      "\n",
      "=== 简历结构化摘要数据 ===\n",
      "\n",
      "name: 张伟\n",
      "email: xxx@xxx.com\n",
      "experience:\n",
      "- title: 职位名称1\n",
      "  company: 公司1\n",
      "- title: 职位名称2\n",
      "  company: 公司2\n",
      "skills:\n",
      "- 技能1\n",
      "- 技能2\n",
      "- 技能3\n",
      "\n",
      "========================\n"
     ]
    }
   ],
   "source": [
    "def main():\n",
    "    shared = {}\n",
    "    # 读取简历文件\n",
    "    with open('./data/resume1.txt', 'r', encoding='utf8') as file:\n",
    "        resume_text = file.read()\n",
    "    shared['resume_text'] = resume_text\n",
    "    resume_flow.run(shared)\n",
    "\n",
    "if __name__ == '__main__':\n",
    "    main()"
   ]
  }
 ],
 "metadata": {
  "kernelspec": {
   "display_name": "pocket-flow",
   "language": "python",
   "name": "python3"
  },
  "language_info": {
   "codemirror_mode": {
    "name": "ipython",
    "version": 3
   },
   "file_extension": ".py",
   "mimetype": "text/x-python",
   "name": "python",
   "nbconvert_exporter": "python",
   "pygments_lexer": "ipython3",
   "version": "3.11.13"
  }
 },
 "nbformat": 4,
 "nbformat_minor": 5
}
