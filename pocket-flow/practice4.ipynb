{
 "cells": [
  {
   "cell_type": "markdown",
   "id": "dccbd6bb",
   "metadata": {},
   "source": [
    "# 单Agent"
   ]
  },
  {
   "cell_type": "code",
   "execution_count": 1,
   "id": "88693049",
   "metadata": {},
   "outputs": [
    {
     "data": {
      "text/plain": [
       "True"
      ]
     },
     "execution_count": 1,
     "metadata": {},
     "output_type": "execute_result"
    }
   ],
   "source": [
    "from openai import OpenAI\n",
    "import os\n",
    "from dotenv import load_dotenv\n",
    "from pocketflow import Node,Flow\n",
    "\n",
    "load_dotenv()"
   ]
  },
  {
   "cell_type": "code",
   "execution_count": 4,
   "id": "5bc4ce4f",
   "metadata": {},
   "outputs": [],
   "source": [
    "import yaml"
   ]
  },
  {
   "cell_type": "code",
   "execution_count": 3,
   "id": "b3e82691",
   "metadata": {},
   "outputs": [],
   "source": [
    "def call_llm(prompt):\n",
    "    client = OpenAI(\n",
    "        base_url= os.getenv(\"BASE_URL\"),\n",
    "        api_key=os.getenv(\"DASHSCOPE_API_KEY\")\n",
    "    )\n",
    "    res = client.chat.completions.create(\n",
    "        model = os.getenv(\"MODEL_NAME\"),\n",
    "        messages = [{\n",
    "            \"role\": \"user\",\n",
    "            \"content\": prompt\n",
    "        }]\n",
    "    )\n",
    "    return res.choices[0].message.content"
   ]
  },
  {
   "cell_type": "code",
   "execution_count": 5,
   "id": "5fcafe51",
   "metadata": {},
   "outputs": [],
   "source": [
    "# 行动决定节点\n",
    "class DecideAction(Node):\n",
    "    def prep(self,shared):\n",
    "        context = shared.get(\"context\",\"没有之前的搜索\")\n",
    "        travel_query = shared['travel_query']\n",
    "        return travel_query,context\n",
    "    \n",
    "    def exec(self,inputs):\n",
    "        travel_query,context = inputs\n",
    "        prompt = f\"\"\"\n",
    "        ### 上下文  \n",
    "        你是一个旅行规划助手，可以搜索网络获取信息。  \n",
    "        旅行查询: {travel_query}  \n",
    "        已有信息: {context}  \n",
    "        \n",
    "        ### 可用行动  \n",
    "        [1] search  \n",
    "        描述: 在网络上查找更多信息  \n",
    "        参数:  \n",
    "            - query (str): 要搜索的内容  \n",
    "        \n",
    "        [2] answer  \n",
    "        描述: 用当前知识回答问题  \n",
    "        参数:  \n",
    "            - answer (str): 给出的旅行建议  \n",
    "        \n",
    "        ## 下一步行动  \n",
    "        根据上下文和可用行动决定下一步。\n",
    "        按以下格式返回:  \n",
    "        \n",
    "        ```yaml  \n",
    "        thinking: |  \n",
    "            <你的逐步思考过程>  \n",
    "        action: search 或 answer  \n",
    "        reason: <为什么选择这个行动>  \n",
    "        answer: <如果行动是answer>\n",
    "        search_query: <如果行动是search，具体的搜索查询>\n",
    "        ```\"\"\"\n",
    "\n",
    "        res = call_llm(prompt)\n",
    "        yaml_str = res.split(\"```yaml\")[1].split(\"```\")[0].strip()\n",
    "        return yaml.safe_load(yaml_str)\n",
    "    \n",
    "    def post(self,shared,prep_str,exec_str):\n",
    "        if exec_str['action'] == \"search\":\n",
    "            shared['search_query'] = exec_str['search_query']\n",
    "        else:\n",
    "            shared['context'] = exec_str['answer']\n",
    "        \n",
    "        return exec_str[\"action\"]"
   ]
  },
  {
   "cell_type": "code",
   "execution_count": null,
   "id": "cf49d7cf",
   "metadata": {},
   "outputs": [],
   "source": [
    "from tavily import TavilyClient\n",
    "\n",
    "tavily_client = TavilyClient(api_key=\"tavily api key\")\n",
    "\n",
    "def search_web(query):\n",
    "    res = tavily_client.search(query)\n",
    "    results_str = \"\\n\\n\".join([\n",
    "        f\"标题: {r['title']}\\n网址: {r['url']}\\n摘要: {r['content']}\"\n",
    "        for r in res['results']\n",
    "    ])\n",
    "    return results_str"
   ]
  },
  {
   "cell_type": "code",
   "execution_count": 7,
   "id": "c1aac135",
   "metadata": {},
   "outputs": [],
   "source": [
    "# 网络搜索节点\n",
    "class SearchWeb(Node):\n",
    "    def prep(self,shared):\n",
    "        return shared['search_query']\n",
    "    def exec(self,search_query):\n",
    "        print(f\"🌐 正在搜索: {search_query}\")  \n",
    "        res = search_web(search_query)\n",
    "        return res\n",
    "    def post(self,shared,prep_str,exec_str):\n",
    "        previous = shared.get(\"context\",\"\")\n",
    "        shared['context'] =  previous + \"\\n\\n搜索: \" + shared[\"search_query\"] + \"\\n结果: \" + exec_str \n",
    "        print(f\"📚 找到信息，正在分析结果...\")  \n",
    "        return \"decide\""
   ]
  },
  {
   "cell_type": "code",
   "execution_count": 8,
   "id": "e632f32b",
   "metadata": {},
   "outputs": [],
   "source": [
    "class AnswerQuestion(Node):\n",
    "    def prep(self,shared):\n",
    "        return shared['travel_query'],shared.get(\"context\",\"\")\n",
    "    \n",
    "    def exec(self,inputs):\n",
    "        travel_query,context = inputs\n",
    "        print(f\"✍️ 正在制定旅行建议...\")  \n",
    "        prompt = f\"\"\"  \n",
    "        ### 上下文  \n",
    "        基于以下信息，回答旅行查询。  \n",
    "        旅行查询: {travel_query}  \n",
    "        搜集的信息: {context}  \n",
    "        \n",
    "        ## 你的建议:  \n",
    "        提供一个全面的旅行建议，包括:  \n",
    "        1. 目的地概览  \n",
    "        2. 推荐的景点  \n",
    "        3. 最佳旅行时间  \n",
    "        4. 交通和住宿建议  \n",
    "        5. 预算考虑  \n",
    "        \"\"\"     \n",
    "        res = call_llm(prompt)  \n",
    "        return res\n",
    "    def post(self,shared,prep_str,exec_str):\n",
    "        shared['answer'] = exec_str\n",
    "        print(f\"✅ 旅行建议生成成功\")  \n",
    "        return \"done\""
   ]
  },
  {
   "cell_type": "code",
   "execution_count": null,
   "id": "f1ce2670",
   "metadata": {},
   "outputs": [],
   "source": [
    "def create_travel_agent_flow():\n",
    "    decide_node = DecideAction()\n",
    "    search_node = SearchWeb()\n",
    "    answer_node = AnswerQuestion()\n",
    "\n",
    "    # 表示当 decide_node 节点的决策结果为 \"search\" 时，工作流将跳转到 search_node 节点继续执行\n",
    "    decide_node  - \"search\" >> search_node  \n",
    "\n",
    "    # 表示当 decide_node 节点的决策结果为 \"answer\" 时，工作流将跳转到 answer_node 节点继续执行\n",
    "    decide_node  - \"answer\" >> answer_node\n",
    "    \n",
    "    # 表示当 search_node 节点执行完毕后，返回 \"decide\" 信号，工作流将回到 decide_node 节点重新进行决策\n",
    "    search_node  - \"decide\" >> decide_node\n",
    "\n",
    "    return Flow(start=decide_node)"
   ]
  },
  {
   "cell_type": "code",
   "execution_count": null,
   "id": "5026c683",
   "metadata": {},
   "outputs": [],
   "source": [
    "\n",
    "def main():\n",
    "    shared = {\n",
    "        \"travel_query\": \"我想去日本旅行，帮我规划一下\"\n",
    "    }\n",
    "    travel_agent_flow = create_travel_agent_flow()\n",
    "    travel_agent_flow.run(shared)\n",
    "    print(\"\\n🎯 旅行建议:\")  \n",
    "    print(shared.get(\"answer\", \"没有找到建议\"))\n",
    "\n",
    "if __name__ == '__main__':\n",
    "    main()"
   ]
  }
 ],
 "metadata": {
  "kernelspec": {
   "display_name": "pocket-flow",
   "language": "python",
   "name": "python3"
  },
  "language_info": {
   "codemirror_mode": {
    "name": "ipython",
    "version": 3
   },
   "file_extension": ".py",
   "mimetype": "text/x-python",
   "name": "python",
   "nbconvert_exporter": "python",
   "pygments_lexer": "ipython3",
   "version": "3.11.13"
  }
 },
 "nbformat": 4,
 "nbformat_minor": 5
}
