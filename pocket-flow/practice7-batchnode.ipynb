{
 "cells": [
  {
   "cell_type": "markdown",
   "id": "61cfc5ae",
   "metadata": {},
   "source": [
    "# 翻译器-BatchNode"
   ]
  },
  {
   "cell_type": "code",
   "execution_count": 14,
   "id": "99d9475a",
   "metadata": {},
   "outputs": [],
   "source": [
    "from openai import OpenAI\n",
    "import os\n",
    "from dotenv import load_dotenv\n",
    "import time"
   ]
  },
  {
   "cell_type": "code",
   "execution_count": 6,
   "id": "9bfda0ce",
   "metadata": {},
   "outputs": [
    {
     "data": {
      "text/plain": [
       "True"
      ]
     },
     "execution_count": 6,
     "metadata": {},
     "output_type": "execute_result"
    }
   ],
   "source": [
    "load_dotenv()"
   ]
  },
  {
   "cell_type": "code",
   "execution_count": 8,
   "id": "9e19a61a",
   "metadata": {},
   "outputs": [],
   "source": [
    "def call_llm(prompt):\n",
    "    client = OpenAI(\n",
    "        base_url= os.getenv(\"BASE_URL\"),\n",
    "        api_key=os.getenv(\"DASHSCOPE_API_KEY\")\n",
    "    )\n",
    "    res = client.chat.completions.create(\n",
    "        model = os.getenv(\"MODEL_NAME\"),\n",
    "        messages = [{\n",
    "            \"role\": \"user\",\n",
    "            \"content\": prompt\n",
    "        }]\n",
    "    )\n",
    "    return res.choices[0].message.content"
   ]
  },
  {
   "cell_type": "code",
   "execution_count": 17,
   "id": "b6a2e956",
   "metadata": {},
   "outputs": [],
   "source": [
    "from pocketflow import Node,Flow, BatchNode\n",
    "\n",
    "class TranslateTextNode(BatchNode):\n",
    "    def prep(self, shared):\n",
    "        text = shared.get(\"text\", \"(No text provided)\")\n",
    "        languages = shared.get(\"languages\", [\"Chinese\", \"Spanish\", \"Japanese\", \"German\", \n",
    "                              \"Russian\", \"Portuguese\", \"French\", \"Korean\"])\n",
    "        \n",
    "        # Create batches for each language translation\n",
    "        return [(text, lang) for lang in languages]\n",
    "\n",
    "    # 也就是说，prep返回多组prep_res,对应每次执行exec会运行一组prep_res 会执行多组\n",
    "    # 整个过程自动运行\n",
    "    def exec(self, data_tuple):\n",
    "        text, language = data_tuple\n",
    "        \n",
    "        prompt = f\"\"\"\n",
    "        Please translate the following markdown file into {language}. \n",
    "        But keep the original markdown format, links and code blocks.\n",
    "        Directly return the translated text, without any other text or comments.\n",
    "\n",
    "        Original: \n",
    "        {text}\n",
    "\n",
    "        Translated:\n",
    "        \"\"\"\n",
    "        \n",
    "        result = call_llm(prompt)\n",
    "        print(f\"Translated {language} text\")\n",
    "        return {\"language\": language, \"translation\": result}\n",
    "\n",
    "    def post(self, shared, prep_res, exec_res_list):\n",
    "        # Create output directory if it doesn't exist\n",
    "        output_dir = shared.get(\"output_dir\", \"translations\")\n",
    "        os.makedirs(output_dir, exist_ok=True)\n",
    "        \n",
    "        # Write each translation to a file\n",
    "        for result in exec_res_list:\n",
    "            language, translation = result[\"language\"], result[\"translation\"]\n",
    "            \n",
    "            # Write to file\n",
    "            filename = os.path.join(output_dir, f\"README_{language.upper()}.md\")\n",
    "            with open(filename, \"w\", encoding=\"utf-8\") as f:\n",
    "                f.write(translation)\n",
    "            \n",
    "            print(f\"Saved translation to {filename}\")\n"
   ]
  },
  {
   "cell_type": "code",
   "execution_count": null,
   "id": "4c439e43",
   "metadata": {},
   "outputs": [],
   "source": [
    "translation_node = TranslateTextNode(max_retries=3)\n",
    "translation_flow = Flow(start=translation_node)\n",
    "\n"
   ]
  },
  {
   "cell_type": "code",
   "execution_count": null,
   "id": "6af5f34e",
   "metadata": {},
   "outputs": [
    {
     "name": "stdout",
     "output_type": "stream",
     "text": [
      "Starting sequential translation into 8 languages...\n",
      "Translated Chinese text\n",
      "Translated Spanish text\n",
      "Translated Japanese text\n",
      "Translated German text\n",
      "Translated Russian text\n",
      "Translated Portuguese text\n",
      "Translated French text\n",
      "Translated Korean text\n",
      "Saved translation to ./data/README_CHINESE.md\n",
      "Saved translation to ./data/README_SPANISH.md\n",
      "Saved translation to ./data/README_JAPANESE.md\n",
      "Saved translation to ./data/README_GERMAN.md\n",
      "Saved translation to ./data/README_RUSSIAN.md\n",
      "Saved translation to ./data/README_PORTUGUESE.md\n",
      "Saved translation to ./data/README_FRENCH.md\n",
      "Saved translation to ./data/README_KOREAN.md\n",
      "\n",
      "Total sequential translation time: 61.9263 seconds\n",
      "\n",
      "=== Translation Complete ===\n",
      "Translations saved to: ./data\n",
      "============================\n"
     ]
    }
   ],
   "source": [
    "    with open(\"./README.md\", \"r\") as f:\n",
    "        text = f.read()\n",
    "\n",
    "    shared = {\n",
    "        \"text\": text,\n",
    "        \"languages\": [\"Chinese\", \"Japanese\", \"German\", \"Russian\", \"French\", \"Korean\"],\n",
    "        \"output_dir\": \"./data\"\n",
    "    }\n",
    "\n",
    "    print(f\"Starting sequential translation into {len(shared['languages'])} languages...\")\n",
    "    start_time = time.perf_counter()\n",
    "\n",
    "    translation_flow.run(shared)\n",
    "\n",
    "    end_time = time.perf_counter()\n",
    "    duration = end_time - start_time\n",
    "\n",
    "    print(f\"\\nTotal sequential translation time: {duration:.4f} seconds\") # Print duration\n",
    "    print(\"\\n=== Translation Complete ===\")\n",
    "    print(f\"Translations saved to: {shared['output_dir']}\")\n",
    "    print(\"============================\")"
   ]
  }
 ],
 "metadata": {
  "kernelspec": {
   "display_name": "pocket-flow",
   "language": "python",
   "name": "python3"
  },
  "language_info": {
   "codemirror_mode": {
    "name": "ipython",
    "version": 3
   },
   "file_extension": ".py",
   "mimetype": "text/x-python",
   "name": "python",
   "nbconvert_exporter": "python",
   "pygments_lexer": "ipython3",
   "version": "3.11.13"
  }
 },
 "nbformat": 4,
 "nbformat_minor": 5
}
