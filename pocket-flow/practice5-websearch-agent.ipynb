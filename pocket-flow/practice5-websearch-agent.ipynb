{
 "cells": [
  {
   "cell_type": "markdown",
   "id": "a515d2c3",
   "metadata": {},
   "source": [
    "# websearch agent"
   ]
  },
  {
   "cell_type": "code",
   "execution_count": 6,
   "id": "61e49c5f",
   "metadata": {},
   "outputs": [
    {
     "data": {
      "text/plain": [
       "True"
      ]
     },
     "execution_count": 6,
     "metadata": {},
     "output_type": "execute_result"
    }
   ],
   "source": [
    "from openai import OpenAI\n",
    "import os\n",
    "from dotenv import load_dotenv\n",
    "from pocketflow import Node,Flow\n",
    "import yaml\n",
    "load_dotenv()"
   ]
  },
  {
   "cell_type": "code",
   "execution_count": 2,
   "id": "cc1f1e67",
   "metadata": {},
   "outputs": [],
   "source": [
    "def call_llm(prompt):\n",
    "    client = OpenAI(\n",
    "        base_url= os.getenv(\"BASE_URL\"),\n",
    "        api_key=os.getenv(\"DASHSCOPE_API_KEY\")\n",
    "    )\n",
    "    res = client.chat.completions.create(\n",
    "        model = os.getenv(\"MODEL_NAME\"),\n",
    "        messages = [{\n",
    "            \"role\": \"user\",\n",
    "            \"content\": prompt\n",
    "        }]\n",
    "    )\n",
    "    return res.choices[0].message.content"
   ]
  },
  {
   "cell_type": "code",
   "execution_count": 3,
   "id": "4aaac662",
   "metadata": {},
   "outputs": [],
   "source": [
    "# 决定节点：作用是判断问题是直接返回回答还是继续search\n",
    "\n",
    "class DecideAction(Node):\n",
    "    def prep(self, shared):\n",
    "        context = shared.get(\"context\",\"没有之前的搜索\")\n",
    "        question = shared['question']\n",
    "\n",
    "        return question, context\n",
    "    \n",
    "    def exec(self, prep_res):\n",
    "        question, context = prep_res\n",
    "        print(\"Agent 正在决定下一步步骤...\")\n",
    "        prompt = f\"\"\"\n",
    "            ### 背景信息\n",
    "            你是一名可以进行网络搜索的研究助手。\n",
    "            问题：{question}\n",
    "            以往研究：{context}\n",
    "            ### 行动范围\n",
    "            [1] search\n",
    "            描述：在网络上查找更多信息\n",
    "            参数：query（字符串）：要搜索的内容\n",
    "\n",
    "            [2] answer\n",
    "            描述：用现有知识回答问题\n",
    "            参数：answer（字符串）：问题的最终答案\n",
    "            \n",
    "            ### 下一步行动\n",
    "            根据背景信息和可用行动，决定下一步行动。\n",
    "            请按以下格式返回你的回应：\n",
    "\n",
    "            ```yaml\n",
    "            thinking: |\n",
    "                <你的分步推理过程>\n",
    "            action: search 或 answer\n",
    "            reason: <你选择该行动的原因>\n",
    "            answer: <如果行动是answer，填写此处>\n",
    "            search_query: <如果行动是search，填写具体的搜索查询>\n",
    "            ```\n",
    "            \n",
    "            ###重要提示：请务必做到：\n",
    "            所有多行字段使用适当的缩进（4 个空格）\n",
    "            多行文本字段使用 | 字符\n",
    "            单行字段不使用 | 字符\n",
    "            \"\"\"\n",
    "\n",
    "        res = call_llm(prompt)\n",
    "        yaml_str = res.split(\"```yaml\")[1].split(\"```\")[0].strip()\n",
    "\n",
    "        return yaml.safe_load(yaml_str)\n",
    "\n",
    "    def post(self, shared, prep_res, exec_res):\n",
    "        if exec_res['action'] == 'search':\n",
    "            shared['search_query'] = exec_res['search_query']\n",
    "            print(f\"Agent 决定去搜索：{shared['search_query']}\")\n",
    "        else:\n",
    "            shared['context'] = exec_res['answer']\n",
    "            print(\"Agent 决定回答答案\")\n",
    "\n",
    "        return exec_res['action']"
   ]
  },
  {
   "cell_type": "code",
   "execution_count": 4,
   "id": "8dd31968",
   "metadata": {},
   "outputs": [],
   "source": [
    "# 进行网络搜索\n",
    "def search_web(query: str):\n",
    "    pass"
   ]
  },
  {
   "cell_type": "code",
   "execution_count": 10,
   "id": "a261a429",
   "metadata": {},
   "outputs": [],
   "source": [
    "# search节点：作用是搜索答案\n",
    "class SearchWeb(Node):\n",
    "    def prep(self, shared):\n",
    "        return shared['search_query']\n",
    "    \n",
    "\n",
    "    def exec(self, prep_res):\n",
    "        print(f\"Agent 正在从网络搜索：{prep_res}\")\n",
    "        res = search_web(prep_res)\n",
    "\n",
    "        return res\n",
    "    \n",
    "\n",
    "    def post(self, shared, prep_res, exec_res):\n",
    "        previous = shared.get(\"context\", \"\")\n",
    "        shared[\"context\"] = previous + \"\\n\\nSEARCH:\" + shared['search_query'] + \"\\nRESULT:\" + exec_res\n",
    "        print(\"Agent 搜索到数据，正在分析...\")\n",
    "        \n",
    "        return 'decide'\n"
   ]
  },
  {
   "cell_type": "code",
   "execution_count": null,
   "id": "8f5bc3ba",
   "metadata": {},
   "outputs": [],
   "source": [
    "# 回答问题节点\n",
    "class AnswerQuestion(Node):\n",
    "    def prep(self, shared):\n",
    "        return shared['question'], shared.get(\"context\", \"\")\n",
    "    \n",
    "    def exec(self, prep_res):\n",
    "        question, context = prep_res\n",
    "        print(\"Agent 正在回答问题...\")\n",
    "        prompt = f\"\"\"\n",
    "            ## 背景信息\n",
    "            根据以下信息，回答问题。\n",
    "            问题：{question}\n",
    "            研究资料：{context}\n",
    "            \n",
    "            ## 你的回答：\n",
    "            利用研究结果提供全面的答案。\n",
    "            \"\"\"\n",
    "        \n",
    "        answer = call_llm(prompt=prompt)\n",
    "        return answer\n",
    "\n",
    "    \n",
    "    def post(self, shared, prep_res, exec_res):\n",
    "        shared['answer'] = exec_res\n",
    "        \n",
    "        return 'done'"
   ]
  },
  {
   "cell_type": "code",
   "execution_count": null,
   "id": "9a0e9037",
   "metadata": {},
   "outputs": [],
   "source": [
    "def create_travel_agent_flow():\n",
    "    decide_node = DecideAction()\n",
    "    search_node = SearchWeb()\n",
    "    answer_node = AnswerQuestion()\n",
    "\n",
    "    # 表示当 decide_node 节点的决策结果为 \"search\" 时，工作流将跳转到 search_node 节点继续执行\n",
    "    decide_node  - \"search\" >> search_node  \n",
    "\n",
    "    # 表示当 decide_node 节点的决策结果为 \"answer\" 时，工作流将跳转到 answer_node 节点继续执行\n",
    "    decide_node  - \"answer\" >> answer_node\n",
    "    \n",
    "    # 表示当 search_node 节点执行完毕后，返回 \"decide\" 信号，工作流将回到 decide_node 节点重新进行决策\n",
    "    search_node  - \"decide\" >> decide_node\n",
    "\n",
    "    return Flow(start=decide_node)"
   ]
  },
  {
   "cell_type": "code",
   "execution_count": null,
   "id": "3a437ad8",
   "metadata": {},
   "outputs": [],
   "source": [
    "def main():\n",
    "    shared = {\n",
    "        \"travel_query\": \"广东工业大学有哪些校区\"\n",
    "    }\n",
    "    travel_agent_flow = create_travel_agent_flow()\n",
    "    travel_agent_flow.run(shared)\n",
    "    print (shared.get (\"answer\", \"俺不知道耶～😅\"))\n",
    "\n",
    "if __name__ == '__main__':\n",
    "    main()"
   ]
  }
 ],
 "metadata": {
  "kernelspec": {
   "display_name": "pocket-flow",
   "language": "python",
   "name": "python3"
  },
  "language_info": {
   "codemirror_mode": {
    "name": "ipython",
    "version": 3
   },
   "file_extension": ".py",
   "mimetype": "text/x-python",
   "name": "python",
   "nbconvert_exporter": "python",
   "pygments_lexer": "ipython3",
   "version": "3.11.13"
  }
 },
 "nbformat": 4,
 "nbformat_minor": 5
}
