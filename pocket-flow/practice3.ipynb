{
 "cells": [
  {
   "cell_type": "markdown",
   "id": "6734be90",
   "metadata": {},
   "source": [
    "# 更复杂的工作流--天气查询"
   ]
  },
  {
   "cell_type": "code",
   "execution_count": 12,
   "id": "e0637837",
   "metadata": {},
   "outputs": [
    {
     "data": {
      "text/plain": [
       "True"
      ]
     },
     "execution_count": 12,
     "metadata": {},
     "output_type": "execute_result"
    }
   ],
   "source": [
    "from openai import OpenAI\n",
    "import os\n",
    "from dotenv import load_dotenv\n",
    "from pocketflow import Node,Flow\n",
    "\n",
    "load_dotenv()"
   ]
  },
  {
   "cell_type": "code",
   "execution_count": 2,
   "id": "4ed0b768",
   "metadata": {},
   "outputs": [],
   "source": [
    "def call_llm(prompt):\n",
    "    client = OpenAI(\n",
    "        base_url= os.getenv(\"BASE_URL\"),\n",
    "        api_key=os.getenv(\"DASHSCOPE_API_KEY\")\n",
    "    )\n",
    "    res = client.chat.completions.create(\n",
    "        model = os.getenv(\"MODEL_NAME\"),\n",
    "        messages = [{\n",
    "            \"role\": \"user\",\n",
    "            \"content\": prompt\n",
    "        }]\n",
    "    )\n",
    "    return res.choices[0].message.content"
   ]
  },
  {
   "cell_type": "code",
   "execution_count": 3,
   "id": "eb77f017",
   "metadata": {},
   "outputs": [],
   "source": [
    "# 定义收集天气节点\n",
    "class CollectWeatherData(Node):\n",
    "    def prep(self,shared):\n",
    "        return shared['city']\n",
    "    def exec(self,city):\n",
    "        prompt = f\"模拟API请求：请提供{city}当前的天气信息，包括温度、湿度、风速和天气状况\"\n",
    "        res = call_llm(prompt)\n",
    "        return res\n",
    "    def post(self,shared,prep_res,exec_res):\n",
    "        shared['weather_data'] = exec_res\n",
    "        print(\"\\n===== 已收集到的天气数据 =====\\n\") "
   ]
  },
  {
   "cell_type": "code",
   "execution_count": 8,
   "id": "23949254",
   "metadata": {},
   "outputs": [],
   "source": [
    "# 定义分析天气节点\n",
    "class AnalyzeWeatherData(Node):\n",
    "    def prep(self,shared):\n",
    "        return shared['weather_data']\n",
    "    def exec(self,weather_data):\n",
    "        prompt = f\"\"\"\n",
    "        分析以下天气数据，并以JSON格式返回关键信息：  \n",
    "          \n",
    "        {weather_data}  \n",
    "          \n",
    "        请以如下格式返回：  \n",
    "        ```json  \n",
    "        {{  \n",
    "            \"temperature\": \"温度数值和单位\",  \n",
    "            \"humidity\": \"湿度百分比\",   \n",
    "            \"wind\": \"风速和风向\",  \n",
    "            \"condition\": \"天气状况\",  \n",
    "            \"summary\": \"一句话总结天气情况\"  \n",
    "        }}  \n",
    "        ```\"\"\"\n",
    "        res = call_llm(prompt)\n",
    "        json_str = res.split(\"```json\")[1].split(\"```\")[0].strip()\n",
    "        return json_str\n",
    "    \n",
    "    def post(self,shared,prep_res,exec_res):\n",
    "        shared['weather_analysis'] = exec_res\n",
    "        print(\"\\n===== 已获取天气数据分析结果 =====\\n\")"
   ]
  },
  {
   "cell_type": "code",
   "execution_count": 9,
   "id": "df634b2e",
   "metadata": {},
   "outputs": [],
   "source": [
    "# 定义生成天气预报节点\n",
    "class GenerateWeatherData(Node):\n",
    "    def prep(self,shared):\n",
    "        return shared['weather_analysis'],shared['city']\n",
    "    def exec(self,data):\n",
    "        analysis,city = data\n",
    "        prompt = f\"\"\"\n",
    "        基于以下天气分析数据，为{city}创建一个用户友好的天气报告：  \n",
    "            \n",
    "        {analysis}  \n",
    "            \n",
    "        报告应该：  \n",
    "        - 使用日常用语，避免专业术语  \n",
    "        - 添加一些关于适合的活动的建议  \n",
    "        - 提供简单的着装建议  \n",
    "        - 采用轻松愉快的语调  \n",
    "        \"\"\"\n",
    "        return call_llm(prompt)\n",
    "    def post(self,shared,prep_res,exec_res):\n",
    "        shared['weather_report'] = exec_res\n",
    "        print(\"\\n===== 已生成的天气报告 =====\\n\")  "
   ]
  },
  {
   "cell_type": "code",
   "execution_count": 10,
   "id": "cdfc229c",
   "metadata": {},
   "outputs": [],
   "source": [
    "# 创建全部节点\n",
    "collect_node = CollectWeatherData()\n",
    "analze_node = AnalyzeWeatherData()\n",
    "report_node = GenerateWeatherData()\n",
    "\n",
    "# 连接节点\n",
    "collect_node >> analze_node >> report_node\n",
    "weather_flow = Flow(start=collect_node)"
   ]
  },
  {
   "cell_type": "code",
   "execution_count": 15,
   "id": "8488eb97",
   "metadata": {},
   "outputs": [
    {
     "name": "stdout",
     "output_type": "stream",
     "text": [
      "\n",
      "===== 已收集到的天气数据 =====\n",
      "\n",
      "\n",
      "===== 已获取天气数据分析结果 =====\n",
      "\n",
      "\n",
      "===== 已生成的天气报告 =====\n",
      "\n",
      "\n",
      "=== 工作流完成 ===\n",
      "\n",
      "天气报告: 🌞 **深圳今日天气报告 | 轻松又舒适的多云天** 🌤️\n",
      "\n",
      "嗨！一起来看看今天的天气吧～\n",
      "\n",
      "今天的深圳是**多云天**，阳光偶尔露个脸，整体感觉非常舒服！气温刚刚好，**28°C**，不冷不热，正是出门溜达的好时候！\n",
      "\n",
      "🌬️ **风力情况**：微风拂面，**风速12 km/h**，不会太晒也不会太闷，户外活动刚刚好～\n",
      "\n",
      "💧 **空气有点湿润**：空气湿度是**65%**，体感清爽，不会觉得黏糊糊的。\n",
      "\n",
      "---\n",
      "\n",
      "👕 **穿什么好？**  \n",
      "今天穿得**轻便舒适**就行～短袖、T恤、薄裙子都可以安排上！如果傍晚出门，可以带一件薄外套，以防微风有点凉。\n",
      "\n",
      "---\n",
      "\n",
      "🏃‍♀️ **适合做什么？**  \n",
      "这样的天气，不出门都可惜啦！\n",
      "\n",
      "- 公园散步、骑行超舒服  \n",
      "- 去海边吹吹风（记得防晒哦）  \n",
      "- 约朋友户外咖啡坐坐，享受慢时光  \n",
      "- 晚上还可以去夜市逛一逛，风不大刚刚好！\n",
      "\n",
      "---\n",
      "\n",
      "✨ **一句话总结**：  \n",
      "深圳今天多云舒适，温度刚刚好，风也温柔，快趁着好天气，安排一场轻松的小约会或户外活动吧！\n",
      "\n",
      "🌤️ 愿你今天心情也像天气一样明媚！\n"
     ]
    }
   ],
   "source": [
    "def main():\n",
    "    shared = {\"city\": \"深圳\"}\n",
    "    weather_flow.run(shared)\n",
    "\n",
    "    print(\"\\n=== 工作流完成 ===\\n\")\n",
    "    print(f\"天气报告: {shared['weather_report']}\")\n",
    "\n",
    "if __name__ == '__main__':\n",
    "    main()"
   ]
  }
 ],
 "metadata": {
  "kernelspec": {
   "display_name": "pocket-flow",
   "language": "python",
   "name": "python3"
  },
  "language_info": {
   "codemirror_mode": {
    "name": "ipython",
    "version": 3
   },
   "file_extension": ".py",
   "mimetype": "text/x-python",
   "name": "python",
   "nbconvert_exporter": "python",
   "pygments_lexer": "ipython3",
   "version": "3.11.13"
  }
 },
 "nbformat": 4,
 "nbformat_minor": 5
}
