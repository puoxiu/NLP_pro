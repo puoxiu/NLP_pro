{
 "cells": [
  {
   "cell_type": "code",
   "execution_count": 1,
   "id": "14fb10f1",
   "metadata": {},
   "outputs": [],
   "source": [
    "from openai import OpenAI\n",
    "import os\n",
    "from dotenv import load_dotenv"
   ]
  },
  {
   "cell_type": "code",
   "execution_count": 2,
   "id": "b803d89c",
   "metadata": {},
   "outputs": [
    {
     "data": {
      "text/plain": [
       "True"
      ]
     },
     "execution_count": 2,
     "metadata": {},
     "output_type": "execute_result"
    }
   ],
   "source": [
    "load_dotenv()"
   ]
  },
  {
   "cell_type": "code",
   "execution_count": 3,
   "id": "13151d88",
   "metadata": {},
   "outputs": [],
   "source": [
    "\n",
    "def call_llm(prompt):\n",
    "    client = OpenAI(\n",
    "        base_url= os.getenv(\"BASE_URL\"),\n",
    "        api_key=os.getenv(\"DASHSCOPE_API_KEY\")\n",
    "    )\n",
    "    res = client.chat.completions.create(\n",
    "        model = os.getenv(\"MODEL_NAME\"),\n",
    "        messages = [{\n",
    "            \"role\": \"user\",\n",
    "            \"content\": prompt\n",
    "        }]\n",
    "    )\n",
    "    return res.choices[0].message.content"
   ]
  },
  {
   "cell_type": "code",
   "execution_count": 4,
   "id": "adeb2edf",
   "metadata": {},
   "outputs": [],
   "source": [
    "from pocketflow import Node,Flow\n",
    "\n",
    "# 定义问答节点\n",
    "class AnswerNode(Node):\n",
    "    # 数据准备，从 shared 读取问题\n",
    "    def prep(self, shared):\n",
    "        return shared['question']\n",
    "\n",
    "    # 执行回答，调用 LLM\n",
    "    def exec(self, question):\n",
    "        return call_llm(question)\n",
    "\n",
    "    # 数据结果，将回答写入 shared\n",
    "    def post(self, shared, prep_res, exec_res):\n",
    "        shared['answer'] = exec_res\n",
    "\n",
    "# 新建问答节点\n",
    "answer_node = AnswerNode()\n",
    "# 新建问答流程\n",
    "answer_flow = Flow(start=answer_node)\n"
   ]
  },
  {
   "cell_type": "code",
   "execution_count": 11,
   "id": "8ab70517",
   "metadata": {},
   "outputs": [
    {
     "name": "stdout",
     "output_type": "stream",
     "text": [
      "Question: 生成一段快速排序的py实现吧。/no-think/\n",
      "Answer: 当然可以！下面是一个简洁易懂的 **快速排序（Quick Sort）** 的 Python 实现：\n",
      "\n",
      "```python\n",
      "def quick_sort(arr):\n",
      "    if len(arr) <= 1:\n",
      "        return arr\n",
      "    pivot = arr[len(arr) // 2]  # 选择中间元素作为基准\n",
      "    left = [x for x in arr if x < pivot]\n",
      "    middle = [x for x in arr if x == pivot]\n",
      "    right = [x for x in arr if x > pivot]\n",
      "    return quick_sort(left) + middle + quick_sort(right)\n",
      "\n",
      "# 示例用法\n",
      "if __name__ == \"__main__\":\n",
      "    nums = [3, 6, 8, 10, 1, 2, 1]\n",
      "    print(\"排序前:\", nums)\n",
      "    sorted_nums = quick_sort(nums)\n",
      "    print(\"排序后:\", sorted_nums)\n",
      "```\n",
      "\n",
      "### 输出示例：\n",
      "```\n",
      "排序前: [3, 6, 8, 10, 1, 2, 1]\n",
      "排序后: [1, 1, 2, 3, 6, 8, 10]\n",
      "```\n",
      "\n",
      "### 特点：\n",
      "- 使用了 **分治法（Divide and Conquer）** 思想。\n",
      "- 实现是 **非原地排序**，但代码简洁清晰。\n",
      "- 时间复杂度：平均为 `O(n log n)`，最差为 `O(n²)`（当数组已基本有序时）。\n",
      "\n",
      "如果你想看 **原地快速排序（in-place quicksort）** 的实现，我也可以提供。需要吗？\n"
     ]
    }
   ],
   "source": [
    "def main():\n",
    "    # 初始化数据\n",
    "    shared = {\n",
    "        \"question\":\"生成一段快速排序的py实现吧。/no-think/\",\n",
    "        \"answer\": None\n",
    "    }\n",
    "\n",
    "    # 运行问答流程\n",
    "    answer_flow.run(shared)\n",
    "    \n",
    "    # 输出问题和回答\n",
    "    print(\"Question:\",shared['question'])\n",
    "    print(\"Answer:\",shared[\"answer\"])\n",
    "\n",
    "if __name__ == '__main__':\n",
    "    main()"
   ]
  },
  {
   "cell_type": "code",
   "execution_count": 13,
   "id": "af7a1d6c",
   "metadata": {},
   "outputs": [
    {
     "name": "stdout",
     "output_type": "stream",
     "text": [
      "排序前: [3, 6, 8, 10, 1, 2, 1, 3, 4, 12, -1, 2, 0, 0]\n",
      "排序后: [-1, 0, 0, 1, 1, 2, 2, 3, 3, 4, 6, 8, 10, 12]\n"
     ]
    }
   ],
   "source": [
    "def quick_sort(arr):\n",
    "    if len(arr) <= 1:\n",
    "        return arr\n",
    "    pivot = arr[len(arr) // 2]  # 选择中间元素作为基准\n",
    "    left = [x for x in arr if x < pivot]\n",
    "    middle = [x for x in arr if x == pivot]\n",
    "    right = [x for x in arr if x > pivot]\n",
    "    return quick_sort(left) + middle + quick_sort(right)\n",
    "\n",
    "# 示例用法\n",
    "if __name__ == \"__main__\":\n",
    "    nums = [3, 6, 8, 10, 1, 2, 1, 3,4,12,-1,2,0,0]\n",
    "    print(\"排序前:\", nums)\n",
    "    sorted_nums = quick_sort(nums)\n",
    "    print(\"排序后:\", sorted_nums)"
   ]
  }
 ],
 "metadata": {
  "kernelspec": {
   "display_name": "pocket-flow",
   "language": "python",
   "name": "python3"
  },
  "language_info": {
   "codemirror_mode": {
    "name": "ipython",
    "version": 3
   },
   "file_extension": ".py",
   "mimetype": "text/x-python",
   "name": "python",
   "nbconvert_exporter": "python",
   "pygments_lexer": "ipython3",
   "version": "3.11.13"
  }
 },
 "nbformat": 4,
 "nbformat_minor": 5
}
